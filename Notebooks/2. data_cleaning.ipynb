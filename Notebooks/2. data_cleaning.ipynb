{
 "cells": [
  {
   "cell_type": "markdown",
   "id": "370a15aa",
   "metadata": {},
   "source": [
    "# Data Cleaning for Eredivisie Match Prediction\n",
    "\n",
    "This section focuses on the data cleaning process for our Eredivisie match prediction project. The dataset used in this project contains match results from the Eredivisie, the top-tier football league in the Netherlands, spanning from 1956 to the present. \n",
    "\n",
    "Effective data cleaning is a crucial step in ensuring the quality and reliability of the predictions. The raw dataset may contain inconsistencies, missing values, or irrelevant information that could negatively impact the performance of the predictive models. \n",
    "\n",
    "In this notebook, we will:\n",
    "- Explore the structure and content of the dataset.\n",
    "- Handle missing or inconsistent data.\n",
    "- Transform and preprocess the data into a format suitable for analysis and modeling.\n",
    "\n",
    "By the end of this process, we aim to have a clean and well-structured dataset that serves as a solid foundation for building accurate and insightful predictive models.\n",
    "\n",
    "**Future:** N/A\n",
    "\n",
    "**Version:** 1.0"
   ]
  },
  {
   "cell_type": "code",
   "execution_count": 1,
   "id": "6cca8620",
   "metadata": {},
   "outputs": [],
   "source": [
    "# Import packages\n",
    "import pandas as pd\n",
    "import numpy as np "
   ]
  },
  {
   "cell_type": "code",
   "execution_count": 6,
   "id": "677b0517",
   "metadata": {},
   "outputs": [],
   "source": [
    "def data_cleaning_eredivisie_results(df: pd.DataFrame) -> pd.DataFrame:\n",
    "    \"\"\"\n",
    "    Clean the input DataFrame by setting the correct naming conventions (English and snake_case), ... \n",
    "    \n",
    "    Returns:\n",
    "        pd.DataFrame: The cleaned DataFrame.\n",
    "    \"\"\"\n",
    "    # Rename headers\n",
    "    header_mapper = {\n",
    "        'Seizoen': 'season',       \n",
    "        'Datum': 'date',\n",
    "        'Thuisclub': 'home_team',\n",
    "        'Uitclub': 'away_team',\n",
    "        'Thuisscore': 'home_score',\n",
    "        'Uitscore': 'away_score'\n",
    "    } \n",
    "\n",
    "    df = df.rename(columns=header_mapper)\n",
    "\n",
    "    # Rename teams to create consistent naming\n",
    "    teams_to_rename = {\n",
    "        'ADO': 'ADO Den Haag',\n",
    "        'AZ `67': 'AZ',\n",
    "        'Alkmaar': 'AZ',        # Fusie naar AZ in '67\n",
    "        'BVV': 'BVV Den Bosch',\n",
    "        'DWS/A': 'DWS',\n",
    "        'Dordrecht `90': 'FC Dordrecht',\n",
    "        'FC Twente `65': 'FC Twente',\n",
    "        'FC VVV': 'VVV-Venlo',\n",
    "        'VVV': 'VVV-Venlo',\n",
    "        'RKC': 'RKC Waalwijk',\n",
    "        'Rapid JC': 'Roda JC',\n",
    "        'Fortuna `54': 'Fortuna Sittard',\n",
    "        'Feijenoord': 'Feyenoord',\n",
    "        'Go Ahead': 'Go Ahead Eagles',\n",
    "        'SC Heracles': 'Heracles Almelo',\n",
    "        'Sparta': 'Sparta Rotterdam',\t\n",
    "        'DS `79': 'FC Doordrecht',\n",
    "        'SVV/Dordrecht `90': 'FC Dordrecht',\n",
    "        'Xerxes/DHC `66': 'Xerxes',\n",
    "        'Volendam': 'FC Volendam',\n",
    "        'NAC': 'NAC Breda'\n",
    "    }\n",
    "\n",
    "    df['home_team'] = df['home_team'].replace(teams_to_rename)\n",
    "    df['away_team'] = df['away_team'].replace(teams_to_rename)\n",
    "\n",
    "    # Convert date to datetime format\n",
    "    df['date'] = pd.to_datetime(df['date'], format='%Y-%m-%d', errors='coerce')\n",
    "    \n",
    "    return df"
   ]
  },
  {
   "cell_type": "code",
   "execution_count": 3,
   "id": "8bc0731d",
   "metadata": {},
   "outputs": [
    {
     "name": "stdout",
     "output_type": "stream",
     "text": [
      "Dataframe shape: (20722, 6)\n"
     ]
    }
   ],
   "source": [
    "# Start by reading the data and printing the dimensions\n",
    "df_eredivisie_results = pd.read_csv('../Files/eredivisie_results.csv')\n",
    "\n",
    "print(f\"Dataframe shape: {df_eredivisie_results.shape}\")"
   ]
  },
  {
   "cell_type": "code",
   "execution_count": 7,
   "id": "666b501d",
   "metadata": {},
   "outputs": [],
   "source": [
    "df_eredivisie_results = data_cleaning_eredivisie_results(df_eredivisie_results)"
   ]
  },
  {
   "cell_type": "code",
   "execution_count": 8,
   "id": "b1739815",
   "metadata": {},
   "outputs": [
    {
     "name": "stdout",
     "output_type": "stream",
     "text": [
      "Null values in the dataset: \n",
      "season        0\n",
      "date          0\n",
      "home_team     0\n",
      "away_team     0\n",
      "home_score    0\n",
      "away_score    0\n",
      "dtype: int64\n"
     ]
    }
   ],
   "source": [
    "# Let's start by checking for null values\n",
    "print(f\"Null values in the dataset: \\n{df_eredivisie_results.isnull().sum()}\")"
   ]
  },
  {
   "cell_type": "code",
   "execution_count": 9,
   "id": "891fe3c0",
   "metadata": {},
   "outputs": [
    {
     "data": {
      "text/plain": [
       "array(['ADO Den Haag', 'AZ', 'Ajax', 'Almere City FC', 'BVC Amsterdam',\n",
       "       'BVV Den Bosch', 'Blauw Wit', 'Cambuur Leeuwarden', 'DOS', 'DWS',\n",
       "       'De Graafschap', 'De Volewijckers', 'Eindhoven', 'Elinkwijk',\n",
       "       'Excelsior', 'FC Amsterdam', 'FC Den Bosch', 'FC Den Haag',\n",
       "       'FC Doordrecht', 'FC Dordrecht', 'FC Emmen', 'FC Groningen',\n",
       "       'FC Twente', 'FC Utrecht', 'FC Volendam', 'FC Wageningen',\n",
       "       'FC Zwolle', 'FSC', 'Feyenoord', 'Fortuna Sittard', 'GVAV',\n",
       "       'Go Ahead Eagles', 'Haarlem', 'Helmond Sport', 'Heracles',\n",
       "       'Heracles Almelo', 'Holland Sport', 'MVV', 'NAC Breda', 'NEC',\n",
       "       'NOAD', 'PEC Zwolle', 'PSV', 'RBC Roosendaal', 'RKC Waalwijk',\n",
       "       'Roda JC', 'SC Cambuur', 'SC Enschede', 'SC Heerenveen', 'SHS',\n",
       "       'SVV', 'Sittardia', 'Sparta Rotterdam', 'Telstar', 'VVV-Venlo',\n",
       "       'Veendam', 'Vitesse', 'Willem II', 'Xerxes'], dtype=object)"
      ]
     },
     "execution_count": 9,
     "metadata": {},
     "output_type": "execute_result"
    }
   ],
   "source": [
    "# Check for naming mistakes in the teams (e.g. 'PSV Eindhoven' vs 'PSV')\n",
    "np.unique(df_eredivisie_results[['home_team', 'away_team']].values)"
   ]
  },
  {
   "cell_type": "code",
   "execution_count": 10,
   "id": "5c306869",
   "metadata": {},
   "outputs": [],
   "source": [
    "# Save the cleaned dataset\n",
    "df_eredivisie_results.to_csv('../Files/eredivisie_results_cleaned.csv', index=False)"
   ]
  },
  {
   "cell_type": "code",
   "execution_count": 11,
   "id": "87ade1aa",
   "metadata": {},
   "outputs": [
    {
     "data": {
      "text/html": [
       "<div>\n",
       "<style scoped>\n",
       "    .dataframe tbody tr th:only-of-type {\n",
       "        vertical-align: middle;\n",
       "    }\n",
       "\n",
       "    .dataframe tbody tr th {\n",
       "        vertical-align: top;\n",
       "    }\n",
       "\n",
       "    .dataframe thead th {\n",
       "        text-align: right;\n",
       "    }\n",
       "</style>\n",
       "<table border=\"1\" class=\"dataframe\">\n",
       "  <thead>\n",
       "    <tr style=\"text-align: right;\">\n",
       "      <th></th>\n",
       "      <th>season</th>\n",
       "      <th>date</th>\n",
       "      <th>home_team</th>\n",
       "      <th>away_team</th>\n",
       "      <th>home_score</th>\n",
       "      <th>away_score</th>\n",
       "    </tr>\n",
       "  </thead>\n",
       "  <tbody>\n",
       "    <tr>\n",
       "      <th>0</th>\n",
       "      <td>1956-1957</td>\n",
       "      <td>1956-09-02</td>\n",
       "      <td>Ajax</td>\n",
       "      <td>NAC Breda</td>\n",
       "      <td>1</td>\n",
       "      <td>0</td>\n",
       "    </tr>\n",
       "    <tr>\n",
       "      <th>1</th>\n",
       "      <td>1956-1957</td>\n",
       "      <td>1956-09-02</td>\n",
       "      <td>BVV Den Bosch</td>\n",
       "      <td>Elinkwijk</td>\n",
       "      <td>1</td>\n",
       "      <td>2</td>\n",
       "    </tr>\n",
       "    <tr>\n",
       "      <th>2</th>\n",
       "      <td>1956-1957</td>\n",
       "      <td>1956-09-02</td>\n",
       "      <td>DOS</td>\n",
       "      <td>Sparta Rotterdam</td>\n",
       "      <td>2</td>\n",
       "      <td>3</td>\n",
       "    </tr>\n",
       "    <tr>\n",
       "      <th>3</th>\n",
       "      <td>1956-1957</td>\n",
       "      <td>1956-09-02</td>\n",
       "      <td>Fortuna Sittard</td>\n",
       "      <td>Eindhoven</td>\n",
       "      <td>4</td>\n",
       "      <td>1</td>\n",
       "    </tr>\n",
       "    <tr>\n",
       "      <th>4</th>\n",
       "      <td>1956-1957</td>\n",
       "      <td>1956-09-02</td>\n",
       "      <td>NOAD</td>\n",
       "      <td>BVC Amsterdam</td>\n",
       "      <td>1</td>\n",
       "      <td>3</td>\n",
       "    </tr>\n",
       "    <tr>\n",
       "      <th>5</th>\n",
       "      <td>1956-1957</td>\n",
       "      <td>1956-09-02</td>\n",
       "      <td>PSV</td>\n",
       "      <td>MVV</td>\n",
       "      <td>1</td>\n",
       "      <td>3</td>\n",
       "    </tr>\n",
       "    <tr>\n",
       "      <th>6</th>\n",
       "      <td>1956-1957</td>\n",
       "      <td>1956-09-02</td>\n",
       "      <td>SC Enschede</td>\n",
       "      <td>Roda JC</td>\n",
       "      <td>5</td>\n",
       "      <td>2</td>\n",
       "    </tr>\n",
       "    <tr>\n",
       "      <th>7</th>\n",
       "      <td>1956-1957</td>\n",
       "      <td>1956-09-02</td>\n",
       "      <td>VVV-Venlo</td>\n",
       "      <td>GVAV</td>\n",
       "      <td>1</td>\n",
       "      <td>0</td>\n",
       "    </tr>\n",
       "    <tr>\n",
       "      <th>8</th>\n",
       "      <td>1956-1957</td>\n",
       "      <td>1956-09-02</td>\n",
       "      <td>Willem II</td>\n",
       "      <td>Feyenoord</td>\n",
       "      <td>3</td>\n",
       "      <td>3</td>\n",
       "    </tr>\n",
       "    <tr>\n",
       "      <th>9</th>\n",
       "      <td>1956-1957</td>\n",
       "      <td>1956-09-09</td>\n",
       "      <td>BVC Amsterdam</td>\n",
       "      <td>Willem II</td>\n",
       "      <td>0</td>\n",
       "      <td>6</td>\n",
       "    </tr>\n",
       "  </tbody>\n",
       "</table>\n",
       "</div>"
      ],
      "text/plain": [
       "      season       date        home_team         away_team  home_score  \\\n",
       "0  1956-1957 1956-09-02             Ajax         NAC Breda           1   \n",
       "1  1956-1957 1956-09-02    BVV Den Bosch         Elinkwijk           1   \n",
       "2  1956-1957 1956-09-02              DOS  Sparta Rotterdam           2   \n",
       "3  1956-1957 1956-09-02  Fortuna Sittard         Eindhoven           4   \n",
       "4  1956-1957 1956-09-02             NOAD     BVC Amsterdam           1   \n",
       "5  1956-1957 1956-09-02              PSV               MVV           1   \n",
       "6  1956-1957 1956-09-02      SC Enschede           Roda JC           5   \n",
       "7  1956-1957 1956-09-02        VVV-Venlo              GVAV           1   \n",
       "8  1956-1957 1956-09-02        Willem II         Feyenoord           3   \n",
       "9  1956-1957 1956-09-09    BVC Amsterdam         Willem II           0   \n",
       "\n",
       "   away_score  \n",
       "0           0  \n",
       "1           2  \n",
       "2           3  \n",
       "3           1  \n",
       "4           3  \n",
       "5           3  \n",
       "6           2  \n",
       "7           0  \n",
       "8           3  \n",
       "9           6  "
      ]
     },
     "execution_count": 11,
     "metadata": {},
     "output_type": "execute_result"
    }
   ],
   "source": [
    "df_eredivisie_results.head(10)"
   ]
  }
 ],
 "metadata": {
  "kernelspec": {
   "display_name": "base",
   "language": "python",
   "name": "python3"
  },
  "language_info": {
   "codemirror_mode": {
    "name": "ipython",
    "version": 3
   },
   "file_extension": ".py",
   "mimetype": "text/x-python",
   "name": "python",
   "nbconvert_exporter": "python",
   "pygments_lexer": "ipython3",
   "version": "3.11.5"
  }
 },
 "nbformat": 4,
 "nbformat_minor": 5
}
